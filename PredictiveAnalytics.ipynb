{
  "nbformat": 4,
  "nbformat_minor": 0,
  "metadata": {
    "kernelspec": {
      "display_name": "Python 3",
      "language": "python",
      "name": "python3"
    },
    "language_info": {
      "codemirror_mode": {
        "name": "ipython",
        "version": 3
      },
      "file_extension": ".py",
      "mimetype": "text/x-python",
      "name": "python",
      "nbconvert_exporter": "python",
      "pygments_lexer": "ipython3",
      "version": "3.7.4"
    },
    "colab": {
      "name": "PredictiveAnalytics.ipynb",
      "provenance": [],
      "include_colab_link": true
    }
  },
  "cells": [
    {
      "cell_type": "markdown",
      "metadata": {
        "id": "view-in-github",
        "colab_type": "text"
      },
      "source": [
        "<a href=\"https://colab.research.google.com/github/Madhav-Somanath/DataAnalytics-ANZ/blob/master/PredictiveAnalytics.ipynb\" target=\"_parent\"><img src=\"https://colab.research.google.com/assets/colab-badge.svg\" alt=\"Open In Colab\"/></a>"
      ]
    },
    {
      "cell_type": "markdown",
      "metadata": {
        "id": "mSRpR5bR-pcw",
        "colab_type": "text"
      },
      "source": [
        "# Initial Analysis"
      ]
    },
    {
      "cell_type": "markdown",
      "metadata": {
        "id": "XBLu0XJQ8zLv",
        "colab_type": "text"
      },
      "source": [
        "### Importing necessary modules"
      ]
    },
    {
      "cell_type": "code",
      "metadata": {
        "id": "7BEgsbtB7QDy",
        "colab_type": "code",
        "colab": {
          "base_uri": "https://localhost:8080/",
          "height": 73
        },
        "outputId": "6e377fe6-35fd-493f-cb5d-0269eecc721e"
      },
      "source": [
        "import numpy as np\n",
        "import pandas as pd\n",
        "import seaborn as sns\n",
        "import matplotlib.pyplot as plt\n",
        "from sklearn.linear_model import LinearRegression\n",
        "from sklearn.tree import DecisionTreeRegressor\n",
        "from sklearn.cluster import KMeans\n",
        "from sklearn.preprocessing import PolynomialFeatures\n",
        "from sklearn.model_selection import train_test_split\n",
        "from sklearn.metrics import mean_squared_error, r2_score"
      ],
      "execution_count": 1,
      "outputs": [
        {
          "output_type": "stream",
          "text": [
            "/usr/local/lib/python3.6/dist-packages/statsmodels/tools/_testing.py:19: FutureWarning: pandas.util.testing is deprecated. Use the functions in the public API at pandas.testing instead.\n",
            "  import pandas.util.testing as tm\n"
          ],
          "name": "stderr"
        }
      ]
    },
    {
      "cell_type": "markdown",
      "metadata": {
        "id": "Zm5soVTn9GSx",
        "colab_type": "text"
      },
      "source": [
        "### Importing dataset and performing feature selection"
      ]
    },
    {
      "cell_type": "code",
      "metadata": {
        "id": "Ko7gx6vn8PV9",
        "colab_type": "code",
        "colab": {
          "base_uri": "https://localhost:8080/",
          "height": 128
        },
        "outputId": "480f127a-f00a-46d6-98c9-fb4a654faefc"
      },
      "source": [
        "from google.colab import drive\n",
        "drive.mount('/content/drive')"
      ],
      "execution_count": 2,
      "outputs": [
        {
          "output_type": "stream",
          "text": [
            "Go to this URL in a browser: https://accounts.google.com/o/oauth2/auth?client_id=947318989803-6bn6qk8qdgf4n4g3pfee6491hc0brc4i.apps.googleusercontent.com&redirect_uri=urn%3aietf%3awg%3aoauth%3a2.0%3aoob&response_type=code&scope=email%20https%3a%2f%2fwww.googleapis.com%2fauth%2fdocs.test%20https%3a%2f%2fwww.googleapis.com%2fauth%2fdrive%20https%3a%2f%2fwww.googleapis.com%2fauth%2fdrive.photos.readonly%20https%3a%2f%2fwww.googleapis.com%2fauth%2fpeopleapi.readonly\n",
            "\n",
            "Enter your authorization code:\n",
            "··········\n",
            "Mounted at /content/drive\n"
          ],
          "name": "stdout"
        }
      ]
    },
    {
      "cell_type": "code",
      "metadata": {
        "id": "-r4Uy8Ua7QEC",
        "colab_type": "code",
        "colab": {}
      },
      "source": [
        "data = pd.read_excel(\"/content/drive/My Drive/ANZ.xlsx\")"
      ],
      "execution_count": 3,
      "outputs": []
    },
    {
      "cell_type": "code",
      "metadata": {
        "id": "4p_uwoOF7QEO",
        "colab_type": "code",
        "colab": {
          "base_uri": "https://localhost:8080/",
          "height": 330
        },
        "outputId": "069a13e5-d0bb-452a-9cf2-d81fa677815e"
      },
      "source": [
        "data.head()"
      ],
      "execution_count": 4,
      "outputs": [
        {
          "output_type": "execute_result",
          "data": {
            "text/html": [
              "<div>\n",
              "<style scoped>\n",
              "    .dataframe tbody tr th:only-of-type {\n",
              "        vertical-align: middle;\n",
              "    }\n",
              "\n",
              "    .dataframe tbody tr th {\n",
              "        vertical-align: top;\n",
              "    }\n",
              "\n",
              "    .dataframe thead th {\n",
              "        text-align: right;\n",
              "    }\n",
              "</style>\n",
              "<table border=\"1\" class=\"dataframe\">\n",
              "  <thead>\n",
              "    <tr style=\"text-align: right;\">\n",
              "      <th></th>\n",
              "      <th>status</th>\n",
              "      <th>card_present_flag</th>\n",
              "      <th>bpay_biller_code</th>\n",
              "      <th>account</th>\n",
              "      <th>currency</th>\n",
              "      <th>long_lat</th>\n",
              "      <th>txn_description</th>\n",
              "      <th>merchant_id</th>\n",
              "      <th>merchant_code</th>\n",
              "      <th>first_name</th>\n",
              "      <th>balance</th>\n",
              "      <th>date</th>\n",
              "      <th>gender</th>\n",
              "      <th>age</th>\n",
              "      <th>merchant_suburb</th>\n",
              "      <th>merchant_state</th>\n",
              "      <th>extraction</th>\n",
              "      <th>amount</th>\n",
              "      <th>transaction_id</th>\n",
              "      <th>country</th>\n",
              "      <th>customer_id</th>\n",
              "      <th>merchant_long_lat</th>\n",
              "      <th>movement</th>\n",
              "    </tr>\n",
              "  </thead>\n",
              "  <tbody>\n",
              "    <tr>\n",
              "      <th>0</th>\n",
              "      <td>authorized</td>\n",
              "      <td>1.0</td>\n",
              "      <td>NaN</td>\n",
              "      <td>ACC-1598451071</td>\n",
              "      <td>AUD</td>\n",
              "      <td>153.41 -27.95</td>\n",
              "      <td>POS</td>\n",
              "      <td>81c48296-73be-44a7-befa-d053f48ce7cd</td>\n",
              "      <td>NaN</td>\n",
              "      <td>Diana</td>\n",
              "      <td>35.39</td>\n",
              "      <td>2018-08-01</td>\n",
              "      <td>F</td>\n",
              "      <td>26</td>\n",
              "      <td>Ashmore</td>\n",
              "      <td>QLD</td>\n",
              "      <td>2018-08-01T01:01:15.000+0000</td>\n",
              "      <td>16.25</td>\n",
              "      <td>a623070bfead4541a6b0fff8a09e706c</td>\n",
              "      <td>Australia</td>\n",
              "      <td>CUS-2487424745</td>\n",
              "      <td>153.38 -27.99</td>\n",
              "      <td>debit</td>\n",
              "    </tr>\n",
              "    <tr>\n",
              "      <th>1</th>\n",
              "      <td>authorized</td>\n",
              "      <td>0.0</td>\n",
              "      <td>NaN</td>\n",
              "      <td>ACC-1598451071</td>\n",
              "      <td>AUD</td>\n",
              "      <td>153.41 -27.95</td>\n",
              "      <td>SALES-POS</td>\n",
              "      <td>830a451c-316e-4a6a-bf25-e37caedca49e</td>\n",
              "      <td>NaN</td>\n",
              "      <td>Diana</td>\n",
              "      <td>21.20</td>\n",
              "      <td>2018-08-01</td>\n",
              "      <td>F</td>\n",
              "      <td>26</td>\n",
              "      <td>Sydney</td>\n",
              "      <td>NSW</td>\n",
              "      <td>2018-08-01T01:13:45.000+0000</td>\n",
              "      <td>14.19</td>\n",
              "      <td>13270a2a902145da9db4c951e04b51b9</td>\n",
              "      <td>Australia</td>\n",
              "      <td>CUS-2487424745</td>\n",
              "      <td>151.21 -33.87</td>\n",
              "      <td>debit</td>\n",
              "    </tr>\n",
              "    <tr>\n",
              "      <th>2</th>\n",
              "      <td>authorized</td>\n",
              "      <td>1.0</td>\n",
              "      <td>NaN</td>\n",
              "      <td>ACC-1222300524</td>\n",
              "      <td>AUD</td>\n",
              "      <td>151.23 -33.94</td>\n",
              "      <td>POS</td>\n",
              "      <td>835c231d-8cdf-4e96-859d-e9d571760cf0</td>\n",
              "      <td>NaN</td>\n",
              "      <td>Michael</td>\n",
              "      <td>5.71</td>\n",
              "      <td>2018-08-01</td>\n",
              "      <td>M</td>\n",
              "      <td>38</td>\n",
              "      <td>Sydney</td>\n",
              "      <td>NSW</td>\n",
              "      <td>2018-08-01T01:26:15.000+0000</td>\n",
              "      <td>6.42</td>\n",
              "      <td>feb79e7ecd7048a5a36ec889d1a94270</td>\n",
              "      <td>Australia</td>\n",
              "      <td>CUS-2142601169</td>\n",
              "      <td>151.21 -33.87</td>\n",
              "      <td>debit</td>\n",
              "    </tr>\n",
              "    <tr>\n",
              "      <th>3</th>\n",
              "      <td>authorized</td>\n",
              "      <td>1.0</td>\n",
              "      <td>NaN</td>\n",
              "      <td>ACC-1037050564</td>\n",
              "      <td>AUD</td>\n",
              "      <td>153.10 -27.66</td>\n",
              "      <td>SALES-POS</td>\n",
              "      <td>48514682-c78a-4a88-b0da-2d6302e64673</td>\n",
              "      <td>NaN</td>\n",
              "      <td>Rhonda</td>\n",
              "      <td>2117.22</td>\n",
              "      <td>2018-08-01</td>\n",
              "      <td>F</td>\n",
              "      <td>40</td>\n",
              "      <td>Buderim</td>\n",
              "      <td>QLD</td>\n",
              "      <td>2018-08-01T01:38:45.000+0000</td>\n",
              "      <td>40.90</td>\n",
              "      <td>2698170da3704fd981b15e64a006079e</td>\n",
              "      <td>Australia</td>\n",
              "      <td>CUS-1614226872</td>\n",
              "      <td>153.05 -26.68</td>\n",
              "      <td>debit</td>\n",
              "    </tr>\n",
              "    <tr>\n",
              "      <th>4</th>\n",
              "      <td>authorized</td>\n",
              "      <td>1.0</td>\n",
              "      <td>NaN</td>\n",
              "      <td>ACC-1598451071</td>\n",
              "      <td>AUD</td>\n",
              "      <td>153.41 -27.95</td>\n",
              "      <td>SALES-POS</td>\n",
              "      <td>b4e02c10-0852-4273-b8fd-7b3395e32eb0</td>\n",
              "      <td>NaN</td>\n",
              "      <td>Diana</td>\n",
              "      <td>17.95</td>\n",
              "      <td>2018-08-01</td>\n",
              "      <td>F</td>\n",
              "      <td>26</td>\n",
              "      <td>Mermaid Beach</td>\n",
              "      <td>QLD</td>\n",
              "      <td>2018-08-01T01:51:15.000+0000</td>\n",
              "      <td>3.25</td>\n",
              "      <td>329adf79878c4cf0aeb4188b4691c266</td>\n",
              "      <td>Australia</td>\n",
              "      <td>CUS-2487424745</td>\n",
              "      <td>153.44 -28.06</td>\n",
              "      <td>debit</td>\n",
              "    </tr>\n",
              "  </tbody>\n",
              "</table>\n",
              "</div>"
            ],
            "text/plain": [
              "       status  card_present_flag  ... merchant_long_lat movement\n",
              "0  authorized                1.0  ...     153.38 -27.99    debit\n",
              "1  authorized                0.0  ...     151.21 -33.87    debit\n",
              "2  authorized                1.0  ...     151.21 -33.87    debit\n",
              "3  authorized                1.0  ...     153.05 -26.68    debit\n",
              "4  authorized                1.0  ...     153.44 -28.06    debit\n",
              "\n",
              "[5 rows x 23 columns]"
            ]
          },
          "metadata": {
            "tags": []
          },
          "execution_count": 4
        }
      ]
    },
    {
      "cell_type": "code",
      "metadata": {
        "id": "6y9oy4mG7QEX",
        "colab_type": "code",
        "colab": {
          "base_uri": "https://localhost:8080/",
          "height": 144
        },
        "outputId": "f4274d4e-5b37-4811-b2b6-4a8cde2bc075"
      },
      "source": [
        "data.columns"
      ],
      "execution_count": 5,
      "outputs": [
        {
          "output_type": "execute_result",
          "data": {
            "text/plain": [
              "Index(['status', 'card_present_flag', 'bpay_biller_code', 'account',\n",
              "       'currency', 'long_lat', 'txn_description', 'merchant_id',\n",
              "       'merchant_code', 'first_name', 'balance', 'date', 'gender', 'age',\n",
              "       'merchant_suburb', 'merchant_state', 'extraction', 'amount',\n",
              "       'transaction_id', 'country', 'customer_id', 'merchant_long_lat',\n",
              "       'movement'],\n",
              "      dtype='object')"
            ]
          },
          "metadata": {
            "tags": []
          },
          "execution_count": 5
        }
      ]
    },
    {
      "cell_type": "code",
      "metadata": {
        "id": "M6sARg2q7QEh",
        "colab_type": "code",
        "colab": {}
      },
      "source": [
        "# selecting important featuers\n",
        "data=data[[\"customer_id\",\"age\",\"txn_description\",\"balance\",\"amount\"]]"
      ],
      "execution_count": 6,
      "outputs": []
    },
    {
      "cell_type": "code",
      "metadata": {
        "id": "gghm78IL7QEn",
        "colab_type": "code",
        "colab": {
          "base_uri": "https://localhost:8080/",
          "height": 206
        },
        "outputId": "9fb87030-f448-413d-c82b-7e4373b17569"
      },
      "source": [
        "data.head()"
      ],
      "execution_count": 7,
      "outputs": [
        {
          "output_type": "execute_result",
          "data": {
            "text/html": [
              "<div>\n",
              "<style scoped>\n",
              "    .dataframe tbody tr th:only-of-type {\n",
              "        vertical-align: middle;\n",
              "    }\n",
              "\n",
              "    .dataframe tbody tr th {\n",
              "        vertical-align: top;\n",
              "    }\n",
              "\n",
              "    .dataframe thead th {\n",
              "        text-align: right;\n",
              "    }\n",
              "</style>\n",
              "<table border=\"1\" class=\"dataframe\">\n",
              "  <thead>\n",
              "    <tr style=\"text-align: right;\">\n",
              "      <th></th>\n",
              "      <th>customer_id</th>\n",
              "      <th>age</th>\n",
              "      <th>txn_description</th>\n",
              "      <th>balance</th>\n",
              "      <th>amount</th>\n",
              "    </tr>\n",
              "  </thead>\n",
              "  <tbody>\n",
              "    <tr>\n",
              "      <th>0</th>\n",
              "      <td>CUS-2487424745</td>\n",
              "      <td>26</td>\n",
              "      <td>POS</td>\n",
              "      <td>35.39</td>\n",
              "      <td>16.25</td>\n",
              "    </tr>\n",
              "    <tr>\n",
              "      <th>1</th>\n",
              "      <td>CUS-2487424745</td>\n",
              "      <td>26</td>\n",
              "      <td>SALES-POS</td>\n",
              "      <td>21.20</td>\n",
              "      <td>14.19</td>\n",
              "    </tr>\n",
              "    <tr>\n",
              "      <th>2</th>\n",
              "      <td>CUS-2142601169</td>\n",
              "      <td>38</td>\n",
              "      <td>POS</td>\n",
              "      <td>5.71</td>\n",
              "      <td>6.42</td>\n",
              "    </tr>\n",
              "    <tr>\n",
              "      <th>3</th>\n",
              "      <td>CUS-1614226872</td>\n",
              "      <td>40</td>\n",
              "      <td>SALES-POS</td>\n",
              "      <td>2117.22</td>\n",
              "      <td>40.90</td>\n",
              "    </tr>\n",
              "    <tr>\n",
              "      <th>4</th>\n",
              "      <td>CUS-2487424745</td>\n",
              "      <td>26</td>\n",
              "      <td>SALES-POS</td>\n",
              "      <td>17.95</td>\n",
              "      <td>3.25</td>\n",
              "    </tr>\n",
              "  </tbody>\n",
              "</table>\n",
              "</div>"
            ],
            "text/plain": [
              "      customer_id  age txn_description  balance  amount\n",
              "0  CUS-2487424745   26             POS    35.39   16.25\n",
              "1  CUS-2487424745   26       SALES-POS    21.20   14.19\n",
              "2  CUS-2142601169   38             POS     5.71    6.42\n",
              "3  CUS-1614226872   40       SALES-POS  2117.22   40.90\n",
              "4  CUS-2487424745   26       SALES-POS    17.95    3.25"
            ]
          },
          "metadata": {
            "tags": []
          },
          "execution_count": 7
        }
      ]
    },
    {
      "cell_type": "code",
      "metadata": {
        "id": "8OPEExrz7QEy",
        "colab_type": "code",
        "colab": {
          "base_uri": "https://localhost:8080/",
          "height": 35
        },
        "outputId": "e3eb2d2c-5c4e-4170-8397-79c7f6dd9b57"
      },
      "source": [
        "print(data['txn_description'].unique())"
      ],
      "execution_count": 8,
      "outputs": [
        {
          "output_type": "stream",
          "text": [
            "['POS' 'SALES-POS' 'PAYMENT' 'INTER BANK' 'PAY/SALARY' 'PHONE BANK']\n"
          ],
          "name": "stdout"
        }
      ]
    },
    {
      "cell_type": "code",
      "metadata": {
        "id": "qarhrvog7QE8",
        "colab_type": "code",
        "colab": {
          "base_uri": "https://localhost:8080/",
          "height": 206
        },
        "outputId": "e1eb2798-c96f-47f5-ec69-4ab1789aad69"
      },
      "source": [
        "plot_data= data.groupby([\"customer_id\"]).mean().reset_index()\n",
        "plot_data.head()"
      ],
      "execution_count": 9,
      "outputs": [
        {
          "output_type": "execute_result",
          "data": {
            "text/html": [
              "<div>\n",
              "<style scoped>\n",
              "    .dataframe tbody tr th:only-of-type {\n",
              "        vertical-align: middle;\n",
              "    }\n",
              "\n",
              "    .dataframe tbody tr th {\n",
              "        vertical-align: top;\n",
              "    }\n",
              "\n",
              "    .dataframe thead th {\n",
              "        text-align: right;\n",
              "    }\n",
              "</style>\n",
              "<table border=\"1\" class=\"dataframe\">\n",
              "  <thead>\n",
              "    <tr style=\"text-align: right;\">\n",
              "      <th></th>\n",
              "      <th>customer_id</th>\n",
              "      <th>age</th>\n",
              "      <th>balance</th>\n",
              "      <th>amount</th>\n",
              "    </tr>\n",
              "  </thead>\n",
              "  <tbody>\n",
              "    <tr>\n",
              "      <th>0</th>\n",
              "      <td>CUS-1005756958</td>\n",
              "      <td>53</td>\n",
              "      <td>2275.852055</td>\n",
              "      <td>222.862603</td>\n",
              "    </tr>\n",
              "    <tr>\n",
              "      <th>1</th>\n",
              "      <td>CUS-1117979751</td>\n",
              "      <td>21</td>\n",
              "      <td>9829.929000</td>\n",
              "      <td>339.843700</td>\n",
              "    </tr>\n",
              "    <tr>\n",
              "      <th>2</th>\n",
              "      <td>CUS-1140341822</td>\n",
              "      <td>28</td>\n",
              "      <td>5699.212250</td>\n",
              "      <td>212.632500</td>\n",
              "    </tr>\n",
              "    <tr>\n",
              "      <th>3</th>\n",
              "      <td>CUS-1147642491</td>\n",
              "      <td>34</td>\n",
              "      <td>9032.841186</td>\n",
              "      <td>245.600169</td>\n",
              "    </tr>\n",
              "    <tr>\n",
              "      <th>4</th>\n",
              "      <td>CUS-1196156254</td>\n",
              "      <td>34</td>\n",
              "      <td>22272.433755</td>\n",
              "      <td>147.145796</td>\n",
              "    </tr>\n",
              "  </tbody>\n",
              "</table>\n",
              "</div>"
            ],
            "text/plain": [
              "      customer_id  age       balance      amount\n",
              "0  CUS-1005756958   53   2275.852055  222.862603\n",
              "1  CUS-1117979751   21   9829.929000  339.843700\n",
              "2  CUS-1140341822   28   5699.212250  212.632500\n",
              "3  CUS-1147642491   34   9032.841186  245.600169\n",
              "4  CUS-1196156254   34  22272.433755  147.145796"
            ]
          },
          "metadata": {
            "tags": []
          },
          "execution_count": 9
        }
      ]
    },
    {
      "cell_type": "markdown",
      "metadata": {
        "id": "wPSDgoFr7QFE",
        "colab_type": "text"
      },
      "source": [
        "### Finding out the mean salary of each customer"
      ]
    },
    {
      "cell_type": "code",
      "metadata": {
        "id": "fWl1Mt647QFF",
        "colab_type": "code",
        "colab": {}
      },
      "source": [
        "salary=data[data[\"txn_description\"]==\"PAY/SALARY\"].groupby(\"customer_id\").mean().reset_index()\n",
        "salary=salary[[\"customer_id\",\"amount\"]]\n",
        "salary=salary.rename(columns = {'amount':'salary'})"
      ],
      "execution_count": 10,
      "outputs": []
    },
    {
      "cell_type": "code",
      "metadata": {
        "id": "azxfCnVh7QFT",
        "colab_type": "code",
        "colab": {
          "base_uri": "https://localhost:8080/",
          "height": 0
        },
        "outputId": "6afb27fc-e7bd-4ce0-cd3e-1ec6a6e90c62"
      },
      "source": [
        "salary.head()"
      ],
      "execution_count": 11,
      "outputs": [
        {
          "output_type": "execute_result",
          "data": {
            "text/html": [
              "<div>\n",
              "<style scoped>\n",
              "    .dataframe tbody tr th:only-of-type {\n",
              "        vertical-align: middle;\n",
              "    }\n",
              "\n",
              "    .dataframe tbody tr th {\n",
              "        vertical-align: top;\n",
              "    }\n",
              "\n",
              "    .dataframe thead th {\n",
              "        text-align: right;\n",
              "    }\n",
              "</style>\n",
              "<table border=\"1\" class=\"dataframe\">\n",
              "  <thead>\n",
              "    <tr style=\"text-align: right;\">\n",
              "      <th></th>\n",
              "      <th>customer_id</th>\n",
              "      <th>salary</th>\n",
              "    </tr>\n",
              "  </thead>\n",
              "  <tbody>\n",
              "    <tr>\n",
              "      <th>0</th>\n",
              "      <td>CUS-1005756958</td>\n",
              "      <td>970.47</td>\n",
              "    </tr>\n",
              "    <tr>\n",
              "      <th>1</th>\n",
              "      <td>CUS-1117979751</td>\n",
              "      <td>3578.65</td>\n",
              "    </tr>\n",
              "    <tr>\n",
              "      <th>2</th>\n",
              "      <td>CUS-1140341822</td>\n",
              "      <td>1916.51</td>\n",
              "    </tr>\n",
              "    <tr>\n",
              "      <th>3</th>\n",
              "      <td>CUS-1147642491</td>\n",
              "      <td>1711.39</td>\n",
              "    </tr>\n",
              "    <tr>\n",
              "      <th>4</th>\n",
              "      <td>CUS-1196156254</td>\n",
              "      <td>3903.73</td>\n",
              "    </tr>\n",
              "  </tbody>\n",
              "</table>\n",
              "</div>"
            ],
            "text/plain": [
              "      customer_id   salary\n",
              "0  CUS-1005756958   970.47\n",
              "1  CUS-1117979751  3578.65\n",
              "2  CUS-1140341822  1916.51\n",
              "3  CUS-1147642491  1711.39\n",
              "4  CUS-1196156254  3903.73"
            ]
          },
          "metadata": {
            "tags": []
          },
          "execution_count": 11
        }
      ]
    },
    {
      "cell_type": "markdown",
      "metadata": {
        "id": "JlbpZqWd7QFX",
        "colab_type": "text"
      },
      "source": [
        "### Create some plots to analyze relation between existing data"
      ]
    },
    {
      "cell_type": "code",
      "metadata": {
        "id": "XjKdSeO67QFZ",
        "colab_type": "code",
        "colab": {
          "base_uri": "https://localhost:8080/",
          "height": 0
        },
        "outputId": "ee15ee2a-f1b9-410d-887d-869f4fb01b2f"
      },
      "source": [
        "plot_data=pd.merge(plot_data, salary, on=\"customer_id\")\n",
        "plot_data.head()"
      ],
      "execution_count": 12,
      "outputs": [
        {
          "output_type": "execute_result",
          "data": {
            "text/html": [
              "<div>\n",
              "<style scoped>\n",
              "    .dataframe tbody tr th:only-of-type {\n",
              "        vertical-align: middle;\n",
              "    }\n",
              "\n",
              "    .dataframe tbody tr th {\n",
              "        vertical-align: top;\n",
              "    }\n",
              "\n",
              "    .dataframe thead th {\n",
              "        text-align: right;\n",
              "    }\n",
              "</style>\n",
              "<table border=\"1\" class=\"dataframe\">\n",
              "  <thead>\n",
              "    <tr style=\"text-align: right;\">\n",
              "      <th></th>\n",
              "      <th>customer_id</th>\n",
              "      <th>age</th>\n",
              "      <th>balance</th>\n",
              "      <th>amount</th>\n",
              "      <th>salary</th>\n",
              "    </tr>\n",
              "  </thead>\n",
              "  <tbody>\n",
              "    <tr>\n",
              "      <th>0</th>\n",
              "      <td>CUS-1005756958</td>\n",
              "      <td>53</td>\n",
              "      <td>2275.852055</td>\n",
              "      <td>222.862603</td>\n",
              "      <td>970.47</td>\n",
              "    </tr>\n",
              "    <tr>\n",
              "      <th>1</th>\n",
              "      <td>CUS-1117979751</td>\n",
              "      <td>21</td>\n",
              "      <td>9829.929000</td>\n",
              "      <td>339.843700</td>\n",
              "      <td>3578.65</td>\n",
              "    </tr>\n",
              "    <tr>\n",
              "      <th>2</th>\n",
              "      <td>CUS-1140341822</td>\n",
              "      <td>28</td>\n",
              "      <td>5699.212250</td>\n",
              "      <td>212.632500</td>\n",
              "      <td>1916.51</td>\n",
              "    </tr>\n",
              "    <tr>\n",
              "      <th>3</th>\n",
              "      <td>CUS-1147642491</td>\n",
              "      <td>34</td>\n",
              "      <td>9032.841186</td>\n",
              "      <td>245.600169</td>\n",
              "      <td>1711.39</td>\n",
              "    </tr>\n",
              "    <tr>\n",
              "      <th>4</th>\n",
              "      <td>CUS-1196156254</td>\n",
              "      <td>34</td>\n",
              "      <td>22272.433755</td>\n",
              "      <td>147.145796</td>\n",
              "      <td>3903.73</td>\n",
              "    </tr>\n",
              "  </tbody>\n",
              "</table>\n",
              "</div>"
            ],
            "text/plain": [
              "      customer_id  age       balance      amount   salary\n",
              "0  CUS-1005756958   53   2275.852055  222.862603   970.47\n",
              "1  CUS-1117979751   21   9829.929000  339.843700  3578.65\n",
              "2  CUS-1140341822   28   5699.212250  212.632500  1916.51\n",
              "3  CUS-1147642491   34   9032.841186  245.600169  1711.39\n",
              "4  CUS-1196156254   34  22272.433755  147.145796  3903.73"
            ]
          },
          "metadata": {
            "tags": []
          },
          "execution_count": 12
        }
      ]
    },
    {
      "cell_type": "markdown",
      "metadata": {
        "id": "HCU8A1GB7QFh",
        "colab_type": "text"
      },
      "source": [
        "### Salary v/s Age"
      ]
    },
    {
      "cell_type": "code",
      "metadata": {
        "id": "lrGwP9uH7QFi",
        "colab_type": "code",
        "colab": {
          "base_uri": "https://localhost:8080/",
          "height": 0
        },
        "outputId": "43f86d50-65b5-4523-ef8d-0868758bee44"
      },
      "source": [
        "plt.figure(figsize=(12, 8))\n",
        "sns.regplot(\"age\", \"salary\", data=plot_data)"
      ],
      "execution_count": 13,
      "outputs": [
        {
          "output_type": "execute_result",
          "data": {
            "text/plain": [
              "<matplotlib.axes._subplots.AxesSubplot at 0x7fac607203c8>"
            ]
          },
          "metadata": {
            "tags": []
          },
          "execution_count": 13
        },
        {
          "output_type": "display_data",
          "data": {
            "image/png": "[encoded data removed]",
            "text/plain": [
              "<Figure size 864x576 with 1 Axes>"
            ]
          },
          "metadata": {
            "tags": [],
            "needs_background": "light"
          }
        }
      ]
    },
    {
      "cell_type": "markdown",
      "metadata": {
        "id": "k5dU8BaJ7QFn",
        "colab_type": "text"
      },
      "source": [
        "### Salary v/s Account Balance"
      ]
    },
    {
      "cell_type": "code",
      "metadata": {
        "id": "Weff9oex7QFo",
        "colab_type": "code",
        "colab": {
          "base_uri": "https://localhost:8080/",
          "height": 0
        },
        "outputId": "c7a47cc0-7149-4bf2-af3e-771fc8d3a064"
      },
      "source": [
        "plt.figure(figsize=(12, 8))\n",
        "sns.regplot(\"balance\", \"salary\", fit_reg=True, data=plot_data)"
      ],
      "execution_count": 14,
      "outputs": [
        {
          "output_type": "execute_result",
          "data": {
            "text/plain": [
              "<matplotlib.axes._subplots.AxesSubplot at 0x7fac60720e10>"
            ]
          },
          "metadata": {
            "tags": []
          },
          "execution_count": 14
        },
        {
          "output_type": "display_data",
          "data": {
            "image/png": "[encoded data removed]",
            "text/plain": [
              "<Figure size 864x576 with 1 Axes>"
            ]
          },
          "metadata": {
            "tags": [],
            "needs_background": "light"
          }
        }
      ]
    },
    {
      "cell_type": "markdown",
      "metadata": {
        "id": "T7dZ6Yf97QFw",
        "colab_type": "text"
      },
      "source": [
        "### Salary v/s Transaction Amount"
      ]
    },
    {
      "cell_type": "code",
      "metadata": {
        "id": "BNPBi3yQ7QFx",
        "colab_type": "code",
        "colab": {
          "base_uri": "https://localhost:8080/",
          "height": 515
        },
        "outputId": "be659fdb-7b44-4909-93c9-9b1cdf7917d0"
      },
      "source": [
        "plt.figure(figsize=(12, 8))\n",
        "sns.regplot(\"amount\", \"salary\", fit_reg=True, data=plot_data)"
      ],
      "execution_count": 15,
      "outputs": [
        {
          "output_type": "execute_result",
          "data": {
            "text/plain": [
              "<matplotlib.axes._subplots.AxesSubplot at 0x7fac612737b8>"
            ]
          },
          "metadata": {
            "tags": []
          },
          "execution_count": 15
        },
        {
          "output_type": "display_data",
          "data": {
            "image/png": "[encoded data removed]",
            "text/plain": [
              "<Figure size 864x576 with 1 Axes>"
            ]
          },
          "metadata": {
            "tags": [],
            "needs_background": "light"
          }
        }
      ]
    },
    {
      "cell_type": "markdown",
      "metadata": {
        "id": "bcPXdrJMuE8H",
        "colab_type": "text"
      },
      "source": [
        "# Data Preparation"
      ]
    },
    {
      "cell_type": "markdown",
      "metadata": {
        "id": "okXkN56V7QF1",
        "colab_type": "text"
      },
      "source": [
        "## Feature Generation"
      ]
    },
    {
      "cell_type": "markdown",
      "metadata": {
        "id": "NGygcqst7QF2",
        "colab_type": "text"
      },
      "source": [
        "### Mean POS (Point of Sale) for each customer"
      ]
    },
    {
      "cell_type": "code",
      "metadata": {
        "id": "oMY-l8IF7QF3",
        "colab_type": "code",
        "colab": {}
      },
      "source": [
        "# POS indicates spending behavior of customer\n",
        "pos=data[data[\"txn_description\"]==(\"POS\"or\"SALES-POS\")].groupby(\"customer_id\").mean().reset_index()\n",
        "pos=pos[[\"customer_id\",\"amount\"]]\n",
        "pos=pos.rename(columns = {'amount':'pos'})"
      ],
      "execution_count": 16,
      "outputs": []
    },
    {
      "cell_type": "code",
      "metadata": {
        "id": "HtA7XOWo7QF6",
        "colab_type": "code",
        "colab": {
          "base_uri": "https://localhost:8080/",
          "height": 206
        },
        "outputId": "5c9b65fb-5f00-4ebf-fdf4-ccd184cf9558"
      },
      "source": [
        "pos.head()"
      ],
      "execution_count": 17,
      "outputs": [
        {
          "output_type": "execute_result",
          "data": {
            "text/html": [
              "<div>\n",
              "<style scoped>\n",
              "    .dataframe tbody tr th:only-of-type {\n",
              "        vertical-align: middle;\n",
              "    }\n",
              "\n",
              "    .dataframe tbody tr th {\n",
              "        vertical-align: top;\n",
              "    }\n",
              "\n",
              "    .dataframe thead th {\n",
              "        text-align: right;\n",
              "    }\n",
              "</style>\n",
              "<table border=\"1\" class=\"dataframe\">\n",
              "  <thead>\n",
              "    <tr style=\"text-align: right;\">\n",
              "      <th></th>\n",
              "      <th>customer_id</th>\n",
              "      <th>pos</th>\n",
              "    </tr>\n",
              "  </thead>\n",
              "  <tbody>\n",
              "    <tr>\n",
              "      <th>0</th>\n",
              "      <td>CUS-1005756958</td>\n",
              "      <td>28.769615</td>\n",
              "    </tr>\n",
              "    <tr>\n",
              "      <th>1</th>\n",
              "      <td>CUS-1117979751</td>\n",
              "      <td>23.321923</td>\n",
              "    </tr>\n",
              "    <tr>\n",
              "      <th>2</th>\n",
              "      <td>CUS-1140341822</td>\n",
              "      <td>34.781282</td>\n",
              "    </tr>\n",
              "    <tr>\n",
              "      <th>3</th>\n",
              "      <td>CUS-1147642491</td>\n",
              "      <td>54.271316</td>\n",
              "    </tr>\n",
              "    <tr>\n",
              "      <th>4</th>\n",
              "      <td>CUS-1196156254</td>\n",
              "      <td>31.157432</td>\n",
              "    </tr>\n",
              "  </tbody>\n",
              "</table>\n",
              "</div>"
            ],
            "text/plain": [
              "      customer_id        pos\n",
              "0  CUS-1005756958  28.769615\n",
              "1  CUS-1117979751  23.321923\n",
              "2  CUS-1140341822  34.781282\n",
              "3  CUS-1147642491  54.271316\n",
              "4  CUS-1196156254  31.157432"
            ]
          },
          "metadata": {
            "tags": []
          },
          "execution_count": 17
        }
      ]
    },
    {
      "cell_type": "code",
      "metadata": {
        "id": "rGxRDBmf7QGA",
        "colab_type": "code",
        "colab": {
          "base_uri": "https://localhost:8080/",
          "height": 35
        },
        "outputId": "f7b44f3c-2cf0-4dd6-88f6-c4fe4e439f24"
      },
      "source": [
        "len(pos)"
      ],
      "execution_count": 18,
      "outputs": [
        {
          "output_type": "execute_result",
          "data": {
            "text/plain": [
              "100"
            ]
          },
          "metadata": {
            "tags": []
          },
          "execution_count": 18
        }
      ]
    },
    {
      "cell_type": "markdown",
      "metadata": {
        "id": "aQIFjSwn7QGF",
        "colab_type": "text"
      },
      "source": [
        "### Mean payment made by the customer"
      ]
    },
    {
      "cell_type": "code",
      "metadata": {
        "id": "ee_4pJtq7QGG",
        "colab_type": "code",
        "colab": {}
      },
      "source": [
        "payment=data[data[\"txn_description\"]==\"PAYMENT\"].groupby(\"customer_id\").mean().reset_index()\n",
        "payment=payment[[\"customer_id\",\"amount\"]]\n",
        "payment=payment.rename(columns = {'amount':'payment'})"
      ],
      "execution_count": 19,
      "outputs": []
    },
    {
      "cell_type": "code",
      "metadata": {
        "id": "Di5bO_cw7QGK",
        "colab_type": "code",
        "colab": {
          "base_uri": "https://localhost:8080/",
          "height": 0
        },
        "outputId": "8c93b535-ca7c-42bd-95f5-d084dfa34cf5"
      },
      "source": [
        "payment.head()"
      ],
      "execution_count": 20,
      "outputs": [
        {
          "output_type": "execute_result",
          "data": {
            "text/html": [
              "<div>\n",
              "<style scoped>\n",
              "    .dataframe tbody tr th:only-of-type {\n",
              "        vertical-align: middle;\n",
              "    }\n",
              "\n",
              "    .dataframe tbody tr th {\n",
              "        vertical-align: top;\n",
              "    }\n",
              "\n",
              "    .dataframe thead th {\n",
              "        text-align: right;\n",
              "    }\n",
              "</style>\n",
              "<table border=\"1\" class=\"dataframe\">\n",
              "  <thead>\n",
              "    <tr style=\"text-align: right;\">\n",
              "      <th></th>\n",
              "      <th>customer_id</th>\n",
              "      <th>payment</th>\n",
              "    </tr>\n",
              "  </thead>\n",
              "  <tbody>\n",
              "    <tr>\n",
              "      <th>0</th>\n",
              "      <td>CUS-1005756958</td>\n",
              "      <td>144.000000</td>\n",
              "    </tr>\n",
              "    <tr>\n",
              "      <th>1</th>\n",
              "      <td>CUS-1117979751</td>\n",
              "      <td>98.925000</td>\n",
              "    </tr>\n",
              "    <tr>\n",
              "      <th>2</th>\n",
              "      <td>CUS-1140341822</td>\n",
              "      <td>142.000000</td>\n",
              "    </tr>\n",
              "    <tr>\n",
              "      <th>3</th>\n",
              "      <td>CUS-1147642491</td>\n",
              "      <td>96.185185</td>\n",
              "    </tr>\n",
              "    <tr>\n",
              "      <th>4</th>\n",
              "      <td>CUS-1196156254</td>\n",
              "      <td>43.100000</td>\n",
              "    </tr>\n",
              "  </tbody>\n",
              "</table>\n",
              "</div>"
            ],
            "text/plain": [
              "      customer_id     payment\n",
              "0  CUS-1005756958  144.000000\n",
              "1  CUS-1117979751   98.925000\n",
              "2  CUS-1140341822  142.000000\n",
              "3  CUS-1147642491   96.185185\n",
              "4  CUS-1196156254   43.100000"
            ]
          },
          "metadata": {
            "tags": []
          },
          "execution_count": 20
        }
      ]
    },
    {
      "cell_type": "code",
      "metadata": {
        "id": "jFrDnAYv7QGT",
        "colab_type": "code",
        "colab": {
          "base_uri": "https://localhost:8080/",
          "height": 0
        },
        "outputId": "1e4f4b00-f480-4e0e-9b91-24db05d86de1"
      },
      "source": [
        "len(payment)"
      ],
      "execution_count": 21,
      "outputs": [
        {
          "output_type": "execute_result",
          "data": {
            "text/plain": [
              "100"
            ]
          },
          "metadata": {
            "tags": []
          },
          "execution_count": 21
        }
      ]
    },
    {
      "cell_type": "markdown",
      "metadata": {
        "id": "AzuQBQ_D7QGY",
        "colab_type": "text"
      },
      "source": [
        "### Mean Inter-bank transfer by each customer"
      ]
    },
    {
      "cell_type": "code",
      "metadata": {
        "id": "XTM4cbtP7QGY",
        "colab_type": "code",
        "colab": {}
      },
      "source": [
        "interbank=data[data[\"txn_description\"]=='INTER BANK'].groupby(\"customer_id\").mean().reset_index()\n",
        "interbank=interbank[[\"customer_id\",\"amount\"]]\n",
        "interbank=interbank.rename(columns = {'amount':'interbank'})"
      ],
      "execution_count": 22,
      "outputs": []
    },
    {
      "cell_type": "code",
      "metadata": {
        "id": "fWVGNXdm7QGc",
        "colab_type": "code",
        "colab": {
          "base_uri": "https://localhost:8080/",
          "height": 0
        },
        "outputId": "933e48a1-a8f1-43f5-e43b-3077823e3b46"
      },
      "source": [
        "interbank.head()"
      ],
      "execution_count": 23,
      "outputs": [
        {
          "output_type": "execute_result",
          "data": {
            "text/html": [
              "<div>\n",
              "<style scoped>\n",
              "    .dataframe tbody tr th:only-of-type {\n",
              "        vertical-align: middle;\n",
              "    }\n",
              "\n",
              "    .dataframe tbody tr th {\n",
              "        vertical-align: top;\n",
              "    }\n",
              "\n",
              "    .dataframe thead th {\n",
              "        text-align: right;\n",
              "    }\n",
              "</style>\n",
              "<table border=\"1\" class=\"dataframe\">\n",
              "  <thead>\n",
              "    <tr style=\"text-align: right;\">\n",
              "      <th></th>\n",
              "      <th>customer_id</th>\n",
              "      <th>interbank</th>\n",
              "    </tr>\n",
              "  </thead>\n",
              "  <tbody>\n",
              "    <tr>\n",
              "      <th>0</th>\n",
              "      <td>CUS-1117979751</td>\n",
              "      <td>1001.0000</td>\n",
              "    </tr>\n",
              "    <tr>\n",
              "      <th>1</th>\n",
              "      <td>CUS-1140341822</td>\n",
              "      <td>90.0000</td>\n",
              "    </tr>\n",
              "    <tr>\n",
              "      <th>2</th>\n",
              "      <td>CUS-1147642491</td>\n",
              "      <td>125.0000</td>\n",
              "    </tr>\n",
              "    <tr>\n",
              "      <th>3</th>\n",
              "      <td>CUS-1196156254</td>\n",
              "      <td>153.4000</td>\n",
              "    </tr>\n",
              "    <tr>\n",
              "      <th>4</th>\n",
              "      <td>CUS-1271030853</td>\n",
              "      <td>76.1875</td>\n",
              "    </tr>\n",
              "  </tbody>\n",
              "</table>\n",
              "</div>"
            ],
            "text/plain": [
              "      customer_id  interbank\n",
              "0  CUS-1117979751  1001.0000\n",
              "1  CUS-1140341822    90.0000\n",
              "2  CUS-1147642491   125.0000\n",
              "3  CUS-1196156254   153.4000\n",
              "4  CUS-1271030853    76.1875"
            ]
          },
          "metadata": {
            "tags": []
          },
          "execution_count": 23
        }
      ]
    },
    {
      "cell_type": "code",
      "metadata": {
        "id": "glz2RBQs7QGk",
        "colab_type": "code",
        "colab": {
          "base_uri": "https://localhost:8080/",
          "height": 0
        },
        "outputId": "dad49c1f-f644-48c5-94f2-03f9ce430d2f"
      },
      "source": [
        "len(interbank)"
      ],
      "execution_count": 24,
      "outputs": [
        {
          "output_type": "execute_result",
          "data": {
            "text/plain": [
              "68"
            ]
          },
          "metadata": {
            "tags": []
          },
          "execution_count": 24
        }
      ]
    },
    {
      "cell_type": "markdown",
      "metadata": {
        "id": "6u-ImsP57QGn",
        "colab_type": "text"
      },
      "source": [
        "### Mean phone transaction made by the customer"
      ]
    },
    {
      "cell_type": "code",
      "metadata": {
        "id": "CPvz6VR97QGo",
        "colab_type": "code",
        "colab": {}
      },
      "source": [
        "#Banking via phone/online pay\n",
        "\n",
        "phonebank=data[data[\"txn_description\"]=='PHONE BANK'].groupby(\"customer_id\").mean().reset_index()\n",
        "phonebank=phonebank[[\"customer_id\",\"amount\"]]\n",
        "phonebank=phonebank.rename(columns = {'amount':'phonebank'})"
      ],
      "execution_count": 25,
      "outputs": []
    },
    {
      "cell_type": "code",
      "metadata": {
        "id": "oj60M_yf7QGs",
        "colab_type": "code",
        "colab": {
          "base_uri": "https://localhost:8080/",
          "height": 0
        },
        "outputId": "9a37bfb1-a71e-4577-9cfa-5f8ede4112ef"
      },
      "source": [
        "phonebank.head()"
      ],
      "execution_count": 26,
      "outputs": [
        {
          "output_type": "execute_result",
          "data": {
            "text/html": [
              "<div>\n",
              "<style scoped>\n",
              "    .dataframe tbody tr th:only-of-type {\n",
              "        vertical-align: middle;\n",
              "    }\n",
              "\n",
              "    .dataframe tbody tr th {\n",
              "        vertical-align: top;\n",
              "    }\n",
              "\n",
              "    .dataframe thead th {\n",
              "        text-align: right;\n",
              "    }\n",
              "</style>\n",
              "<table border=\"1\" class=\"dataframe\">\n",
              "  <thead>\n",
              "    <tr style=\"text-align: right;\">\n",
              "      <th></th>\n",
              "      <th>customer_id</th>\n",
              "      <th>phonebank</th>\n",
              "    </tr>\n",
              "  </thead>\n",
              "  <tbody>\n",
              "    <tr>\n",
              "      <th>0</th>\n",
              "      <td>CUS-1005756958</td>\n",
              "      <td>182.0</td>\n",
              "    </tr>\n",
              "    <tr>\n",
              "      <th>1</th>\n",
              "      <td>CUS-1646183815</td>\n",
              "      <td>150.0</td>\n",
              "    </tr>\n",
              "    <tr>\n",
              "      <th>2</th>\n",
              "      <td>CUS-1896554896</td>\n",
              "      <td>1916.0</td>\n",
              "    </tr>\n",
              "    <tr>\n",
              "      <th>3</th>\n",
              "      <td>CUS-2155701614</td>\n",
              "      <td>82.0</td>\n",
              "    </tr>\n",
              "    <tr>\n",
              "      <th>4</th>\n",
              "      <td>CUS-2348881191</td>\n",
              "      <td>1629.0</td>\n",
              "    </tr>\n",
              "  </tbody>\n",
              "</table>\n",
              "</div>"
            ],
            "text/plain": [
              "      customer_id  phonebank\n",
              "0  CUS-1005756958      182.0\n",
              "1  CUS-1646183815      150.0\n",
              "2  CUS-1896554896     1916.0\n",
              "3  CUS-2155701614       82.0\n",
              "4  CUS-2348881191     1629.0"
            ]
          },
          "metadata": {
            "tags": []
          },
          "execution_count": 26
        }
      ]
    },
    {
      "cell_type": "code",
      "metadata": {
        "id": "66oSz3a07QGv",
        "colab_type": "code",
        "colab": {
          "base_uri": "https://localhost:8080/",
          "height": 0
        },
        "outputId": "240ae6a5-7819-4ab9-ac73-af8817577dfe"
      },
      "source": [
        "len(phonebank)"
      ],
      "execution_count": 27,
      "outputs": [
        {
          "output_type": "execute_result",
          "data": {
            "text/plain": [
              "16"
            ]
          },
          "metadata": {
            "tags": []
          },
          "execution_count": 27
        }
      ]
    },
    {
      "cell_type": "markdown",
      "metadata": {
        "id": "sNdTzPtRAXxK",
        "colab_type": "text"
      },
      "source": [
        "## "
      ]
    },
    {
      "cell_type": "markdown",
      "metadata": {
        "id": "D_YQcN_47QG3",
        "colab_type": "text"
      },
      "source": [
        "## Merging relevant dataframes"
      ]
    },
    {
      "cell_type": "code",
      "metadata": {
        "id": "QtZAax_97QG3",
        "colab_type": "code",
        "colab": {
          "base_uri": "https://localhost:8080/",
          "height": 0
        },
        "outputId": "88b33b90-2f14-4be5-e025-6ed7052fb1bc"
      },
      "source": [
        "customer=data.groupby(\"customer_id\").mean().reset_index()\n",
        "customer=customer[[\"customer_id\",\"age\",\"balance\"]]\n",
        "customer.head()"
      ],
      "execution_count": 28,
      "outputs": [
        {
          "output_type": "execute_result",
          "data": {
            "text/html": [
              "<div>\n",
              "<style scoped>\n",
              "    .dataframe tbody tr th:only-of-type {\n",
              "        vertical-align: middle;\n",
              "    }\n",
              "\n",
              "    .dataframe tbody tr th {\n",
              "        vertical-align: top;\n",
              "    }\n",
              "\n",
              "    .dataframe thead th {\n",
              "        text-align: right;\n",
              "    }\n",
              "</style>\n",
              "<table border=\"1\" class=\"dataframe\">\n",
              "  <thead>\n",
              "    <tr style=\"text-align: right;\">\n",
              "      <th></th>\n",
              "      <th>customer_id</th>\n",
              "      <th>age</th>\n",
              "      <th>balance</th>\n",
              "    </tr>\n",
              "  </thead>\n",
              "  <tbody>\n",
              "    <tr>\n",
              "      <th>0</th>\n",
              "      <td>CUS-1005756958</td>\n",
              "      <td>53</td>\n",
              "      <td>2275.852055</td>\n",
              "    </tr>\n",
              "    <tr>\n",
              "      <th>1</th>\n",
              "      <td>CUS-1117979751</td>\n",
              "      <td>21</td>\n",
              "      <td>9829.929000</td>\n",
              "    </tr>\n",
              "    <tr>\n",
              "      <th>2</th>\n",
              "      <td>CUS-1140341822</td>\n",
              "      <td>28</td>\n",
              "      <td>5699.212250</td>\n",
              "    </tr>\n",
              "    <tr>\n",
              "      <th>3</th>\n",
              "      <td>CUS-1147642491</td>\n",
              "      <td>34</td>\n",
              "      <td>9032.841186</td>\n",
              "    </tr>\n",
              "    <tr>\n",
              "      <th>4</th>\n",
              "      <td>CUS-1196156254</td>\n",
              "      <td>34</td>\n",
              "      <td>22272.433755</td>\n",
              "    </tr>\n",
              "  </tbody>\n",
              "</table>\n",
              "</div>"
            ],
            "text/plain": [
              "      customer_id  age       balance\n",
              "0  CUS-1005756958   53   2275.852055\n",
              "1  CUS-1117979751   21   9829.929000\n",
              "2  CUS-1140341822   28   5699.212250\n",
              "3  CUS-1147642491   34   9032.841186\n",
              "4  CUS-1196156254   34  22272.433755"
            ]
          },
          "metadata": {
            "tags": []
          },
          "execution_count": 28
        }
      ]
    },
    {
      "cell_type": "code",
      "metadata": {
        "id": "sWaZ-9vP7QG8",
        "colab_type": "code",
        "colab": {}
      },
      "source": [
        "df=pd.merge(customer, payment, on=\"customer_id\")\n",
        "df=pd.merge(df, pos, on=\"customer_id\")\n",
        "df=pd.merge(df, salary, on=\"customer_id\")"
      ],
      "execution_count": 29,
      "outputs": []
    },
    {
      "cell_type": "code",
      "metadata": {
        "id": "eIqOXinq7QHE",
        "colab_type": "code",
        "colab": {
          "base_uri": "https://localhost:8080/",
          "height": 0
        },
        "outputId": "5ab7ab8b-9c96-41c4-b3c5-69e215b0af87"
      },
      "source": [
        "df.head()"
      ],
      "execution_count": 30,
      "outputs": [
        {
          "output_type": "execute_result",
          "data": {
            "text/html": [
              "<div>\n",
              "<style scoped>\n",
              "    .dataframe tbody tr th:only-of-type {\n",
              "        vertical-align: middle;\n",
              "    }\n",
              "\n",
              "    .dataframe tbody tr th {\n",
              "        vertical-align: top;\n",
              "    }\n",
              "\n",
              "    .dataframe thead th {\n",
              "        text-align: right;\n",
              "    }\n",
              "</style>\n",
              "<table border=\"1\" class=\"dataframe\">\n",
              "  <thead>\n",
              "    <tr style=\"text-align: right;\">\n",
              "      <th></th>\n",
              "      <th>customer_id</th>\n",
              "      <th>age</th>\n",
              "      <th>balance</th>\n",
              "      <th>payment</th>\n",
              "      <th>pos</th>\n",
              "      <th>salary</th>\n",
              "    </tr>\n",
              "  </thead>\n",
              "  <tbody>\n",
              "    <tr>\n",
              "      <th>0</th>\n",
              "      <td>CUS-1005756958</td>\n",
              "      <td>53</td>\n",
              "      <td>2275.852055</td>\n",
              "      <td>144.000000</td>\n",
              "      <td>28.769615</td>\n",
              "      <td>970.47</td>\n",
              "    </tr>\n",
              "    <tr>\n",
              "      <th>1</th>\n",
              "      <td>CUS-1117979751</td>\n",
              "      <td>21</td>\n",
              "      <td>9829.929000</td>\n",
              "      <td>98.925000</td>\n",
              "      <td>23.321923</td>\n",
              "      <td>3578.65</td>\n",
              "    </tr>\n",
              "    <tr>\n",
              "      <th>2</th>\n",
              "      <td>CUS-1140341822</td>\n",
              "      <td>28</td>\n",
              "      <td>5699.212250</td>\n",
              "      <td>142.000000</td>\n",
              "      <td>34.781282</td>\n",
              "      <td>1916.51</td>\n",
              "    </tr>\n",
              "    <tr>\n",
              "      <th>3</th>\n",
              "      <td>CUS-1147642491</td>\n",
              "      <td>34</td>\n",
              "      <td>9032.841186</td>\n",
              "      <td>96.185185</td>\n",
              "      <td>54.271316</td>\n",
              "      <td>1711.39</td>\n",
              "    </tr>\n",
              "    <tr>\n",
              "      <th>4</th>\n",
              "      <td>CUS-1196156254</td>\n",
              "      <td>34</td>\n",
              "      <td>22272.433755</td>\n",
              "      <td>43.100000</td>\n",
              "      <td>31.157432</td>\n",
              "      <td>3903.73</td>\n",
              "    </tr>\n",
              "  </tbody>\n",
              "</table>\n",
              "</div>"
            ],
            "text/plain": [
              "      customer_id  age       balance     payment        pos   salary\n",
              "0  CUS-1005756958   53   2275.852055  144.000000  28.769615   970.47\n",
              "1  CUS-1117979751   21   9829.929000   98.925000  23.321923  3578.65\n",
              "2  CUS-1140341822   28   5699.212250  142.000000  34.781282  1916.51\n",
              "3  CUS-1147642491   34   9032.841186   96.185185  54.271316  1711.39\n",
              "4  CUS-1196156254   34  22272.433755   43.100000  31.157432  3903.73"
            ]
          },
          "metadata": {
            "tags": []
          },
          "execution_count": 30
        }
      ]
    },
    {
      "cell_type": "markdown",
      "metadata": {
        "id": "oEo7_xwu7QHI",
        "colab_type": "text"
      },
      "source": [
        "## Feature selection for new features"
      ]
    },
    {
      "cell_type": "markdown",
      "metadata": {
        "id": "OxS0O1Fbr65o",
        "colab_type": "text"
      },
      "source": [
        "### Payment v/s Salary"
      ]
    },
    {
      "cell_type": "code",
      "metadata": {
        "id": "UekXRodg7QHJ",
        "colab_type": "code",
        "colab": {
          "base_uri": "https://localhost:8080/",
          "height": 0
        },
        "outputId": "b33392c5-bc9f-43e4-920a-785560938751"
      },
      "source": [
        "plt.figure(figsize=(12, 8))\n",
        "sns.regplot(\"payment\", \"salary\", fit_reg=True, data=df)"
      ],
      "execution_count": 31,
      "outputs": [
        {
          "output_type": "execute_result",
          "data": {
            "text/plain": [
              "<matplotlib.axes._subplots.AxesSubplot at 0x7fac60df5208>"
            ]
          },
          "metadata": {
            "tags": []
          },
          "execution_count": 31
        },
        {
          "output_type": "display_data",
          "data": {
            "image/png": "[encoded data removed]",
            "text/plain": [
              "<Figure size 864x576 with 1 Axes>"
            ]
          },
          "metadata": {
            "tags": [],
            "needs_background": "light"
          }
        }
      ]
    },
    {
      "cell_type": "markdown",
      "metadata": {
        "id": "kmN4Oy7B7QHL",
        "colab_type": "text"
      },
      "source": [
        "### Salary vs Point Of Sale"
      ]
    },
    {
      "cell_type": "code",
      "metadata": {
        "id": "3LGNTp6f7QHL",
        "colab_type": "code",
        "colab": {
          "base_uri": "https://localhost:8080/",
          "height": 0
        },
        "outputId": "bc86e9ad-529d-4e61-89b9-73ea3744ec03"
      },
      "source": [
        "plt.figure(figsize=(12, 8))\n",
        "sns.regplot(\"pos\", \"salary\", fit_reg=True, data=df)"
      ],
      "execution_count": 32,
      "outputs": [
        {
          "output_type": "execute_result",
          "data": {
            "text/plain": [
              "<matplotlib.axes._subplots.AxesSubplot at 0x7fac60ef5908>"
            ]
          },
          "metadata": {
            "tags": []
          },
          "execution_count": 32
        },
        {
          "output_type": "display_data",
          "data": {
            "image/png": "[encoded data removed]",
            "text/plain": [
              "<Figure size 864x576 with 1 Axes>"
            ]
          },
          "metadata": {
            "tags": [],
            "needs_background": "light"
          }
        }
      ]
    },
    {
      "cell_type": "markdown",
      "metadata": {
        "id": "M5yOenkfsCbL",
        "colab_type": "text"
      },
      "source": [
        "# Model building and predictive analytics"
      ]
    },
    {
      "cell_type": "markdown",
      "metadata": {
        "id": "AxpP8T6fs7_j",
        "colab_type": "text"
      },
      "source": [
        "## Supervised models"
      ]
    },
    {
      "cell_type": "markdown",
      "metadata": {
        "id": "SGVNmW5R7QHX",
        "colab_type": "text"
      },
      "source": [
        "### Linear Regression Model"
      ]
    },
    {
      "cell_type": "code",
      "metadata": {
        "id": "1XoqvWNa7QHY",
        "colab_type": "code",
        "colab": {}
      },
      "source": [
        "X=df[[\"age\",\"balance\",\"payment\",\"pos\"]].values\n",
        "y=df[\"salary\"].values"
      ],
      "execution_count": 33,
      "outputs": []
    },
    {
      "cell_type": "code",
      "metadata": {
        "id": "TKq22apt7QHa",
        "colab_type": "code",
        "colab": {}
      },
      "source": [
        "X_train, X_test, y_train, y_test = train_test_split( X, y, test_size=0.2, random_state=42)"
      ],
      "execution_count": 34,
      "outputs": []
    },
    {
      "cell_type": "code",
      "metadata": {
        "id": "P5krzF8J7QHd",
        "colab_type": "code",
        "colab": {}
      },
      "source": [
        "lr = LinearRegression()"
      ],
      "execution_count": 35,
      "outputs": []
    },
    {
      "cell_type": "code",
      "metadata": {
        "id": "kAtxTJPq7QHg",
        "colab_type": "code",
        "colab": {
          "base_uri": "https://localhost:8080/",
          "height": 35
        },
        "outputId": "86f71409-c8b8-420a-c51e-06f79bc9d0f3"
      },
      "source": [
        "lr.fit(X_train, y_train)\n",
        "lr.score(X, y)"
      ],
      "execution_count": 36,
      "outputs": [
        {
          "output_type": "execute_result",
          "data": {
            "text/plain": [
              "0.11930439490077782"
            ]
          },
          "metadata": {
            "tags": []
          },
          "execution_count": 36
        }
      ]
    },
    {
      "cell_type": "code",
      "metadata": {
        "id": "ffBeE5Hp7QHj",
        "colab_type": "code",
        "colab": {}
      },
      "source": [
        "y_pred=lr.predict(X_test)"
      ],
      "execution_count": 37,
      "outputs": []
    },
    {
      "cell_type": "code",
      "metadata": {
        "id": "Yi4yfIxh7QHp",
        "colab_type": "code",
        "colab": {
          "base_uri": "https://localhost:8080/",
          "height": 35
        },
        "outputId": "e09a0ebc-9b25-416f-8f53-a57fa3c2649e"
      },
      "source": [
        "print('Coefficient of determination: ', r2_score(y_test, y_pred))"
      ],
      "execution_count": 38,
      "outputs": [
        {
          "output_type": "stream",
          "text": [
            "Coefficient of determination:  0.07666219584715894\n"
          ],
          "name": "stdout"
        }
      ]
    },
    {
      "cell_type": "code",
      "metadata": {
        "id": "ybTJLULc7QHt",
        "colab_type": "code",
        "colab": {
          "base_uri": "https://localhost:8080/",
          "height": 53
        },
        "outputId": "cdd24074-5be4-4596-d154-54fb8461a03b"
      },
      "source": [
        "# Sample prediction values\n",
        "\n",
        "print(\"The model predicts salary will be=\")\n",
        "print(lr.predict([[60,5000,100,50]])[0])"
      ],
      "execution_count": 39,
      "outputs": [
        {
          "output_type": "stream",
          "text": [
            "The model predicts salary will be=\n",
            "1467.1295983855505\n"
          ],
          "name": "stdout"
        }
      ]
    },
    {
      "cell_type": "markdown",
      "metadata": {
        "id": "xTiEuXV77QHv",
        "colab_type": "text"
      },
      "source": [
        "### Decision Tree Regressor"
      ]
    },
    {
      "cell_type": "code",
      "metadata": {
        "id": "HbjohzYe7QHw",
        "colab_type": "code",
        "colab": {}
      },
      "source": [
        "dt = DecisionTreeRegressor()"
      ],
      "execution_count": 40,
      "outputs": []
    },
    {
      "cell_type": "code",
      "metadata": {
        "id": "f2PkZ4kF7QH5",
        "colab_type": "code",
        "colab": {
          "base_uri": "https://localhost:8080/",
          "height": 35
        },
        "outputId": "b4aa874b-9b98-47a0-a536-eec8ee3b4442"
      },
      "source": [
        "dt.fit(X_train, y_train)\n",
        "dt.score(X_train, y_train)"
      ],
      "execution_count": 41,
      "outputs": [
        {
          "output_type": "execute_result",
          "data": {
            "text/plain": [
              "1.0"
            ]
          },
          "metadata": {
            "tags": []
          },
          "execution_count": 41
        }
      ]
    },
    {
      "cell_type": "code",
      "metadata": {
        "id": "YEsrnc807QH9",
        "colab_type": "code",
        "colab": {
          "base_uri": "https://localhost:8080/",
          "height": 72
        },
        "outputId": "5c83800f-89de-40a0-e856-fcc77f5d6f41"
      },
      "source": [
        "dt.predict(X_test)"
      ],
      "execution_count": 42,
      "outputs": [
        {
          "output_type": "execute_result",
          "data": {
            "text/plain": [
              "array([ 916.75, 2639.76, 3517.61, 2218.73, 3071.14, 3649.51, 1916.51,\n",
              "        917.45, 2280.36, 1272.47,  576.  , 2500.  , 3026.95, 2639.76,\n",
              "       3676.94, 2443.24, 1099.7 , 3676.94, 2572.91, 3517.61])"
            ]
          },
          "metadata": {
            "tags": []
          },
          "execution_count": 42
        }
      ]
    },
    {
      "cell_type": "code",
      "metadata": {
        "id": "JpOgePkb7QH_",
        "colab_type": "code",
        "colab": {
          "base_uri": "https://localhost:8080/",
          "height": 35
        },
        "outputId": "7666fb5d-e104-4463-99ed-ee63106a7334"
      },
      "source": [
        "dt.score(X_test, y_test)"
      ],
      "execution_count": 43,
      "outputs": [
        {
          "output_type": "execute_result",
          "data": {
            "text/plain": [
              "0.22331667991896353"
            ]
          },
          "metadata": {
            "tags": []
          },
          "execution_count": 43
        }
      ]
    },
    {
      "cell_type": "code",
      "metadata": {
        "id": "mWHYFSVO7QIJ",
        "colab_type": "code",
        "colab": {
          "base_uri": "https://localhost:8080/",
          "height": 53
        },
        "outputId": "01a5fbfd-50e4-4ee8-f34b-8e4b76047801"
      },
      "source": [
        "# Sample prediction values\n",
        "\n",
        "print(\"The model predicts salary will be=\")\n",
        "print(dt.predict([[60,5000,100,50]])[0])"
      ],
      "execution_count": 44,
      "outputs": [
        {
          "output_type": "stream",
          "text": [
            "The model predicts salary will be=\n",
            "1002.1299999999998\n"
          ],
          "name": "stdout"
        }
      ]
    },
    {
      "cell_type": "markdown",
      "metadata": {
        "id": "5IqXnnMWtED7",
        "colab_type": "text"
      },
      "source": [
        "## Unsupervised Models"
      ]
    },
    {
      "cell_type": "markdown",
      "metadata": {
        "id": "IxzdFhpO7QIO",
        "colab_type": "text"
      },
      "source": [
        "### Segmentation using K-Means Clustering"
      ]
    },
    {
      "cell_type": "code",
      "metadata": {
        "id": "2MsR-AKk7QIO",
        "colab_type": "code",
        "colab": {
          "base_uri": "https://localhost:8080/",
          "height": 424
        },
        "outputId": "60e874e5-0a03-482c-8086-7d02878d60b8"
      },
      "source": [
        "df"
      ],
      "execution_count": 45,
      "outputs": [
        {
          "output_type": "execute_result",
          "data": {
            "text/html": [
              "<div>\n",
              "<style scoped>\n",
              "    .dataframe tbody tr th:only-of-type {\n",
              "        vertical-align: middle;\n",
              "    }\n",
              "\n",
              "    .dataframe tbody tr th {\n",
              "        vertical-align: top;\n",
              "    }\n",
              "\n",
              "    .dataframe thead th {\n",
              "        text-align: right;\n",
              "    }\n",
              "</style>\n",
              "<table border=\"1\" class=\"dataframe\">\n",
              "  <thead>\n",
              "    <tr style=\"text-align: right;\">\n",
              "      <th></th>\n",
              "      <th>customer_id</th>\n",
              "      <th>age</th>\n",
              "      <th>balance</th>\n",
              "      <th>payment</th>\n",
              "      <th>pos</th>\n",
              "      <th>salary</th>\n",
              "    </tr>\n",
              "  </thead>\n",
              "  <tbody>\n",
              "    <tr>\n",
              "      <th>0</th>\n",
              "      <td>CUS-1005756958</td>\n",
              "      <td>53</td>\n",
              "      <td>2275.852055</td>\n",
              "      <td>144.000000</td>\n",
              "      <td>28.769615</td>\n",
              "      <td>970.47</td>\n",
              "    </tr>\n",
              "    <tr>\n",
              "      <th>1</th>\n",
              "      <td>CUS-1117979751</td>\n",
              "      <td>21</td>\n",
              "      <td>9829.929000</td>\n",
              "      <td>98.925000</td>\n",
              "      <td>23.321923</td>\n",
              "      <td>3578.65</td>\n",
              "    </tr>\n",
              "    <tr>\n",
              "      <th>2</th>\n",
              "      <td>CUS-1140341822</td>\n",
              "      <td>28</td>\n",
              "      <td>5699.212250</td>\n",
              "      <td>142.000000</td>\n",
              "      <td>34.781282</td>\n",
              "      <td>1916.51</td>\n",
              "    </tr>\n",
              "    <tr>\n",
              "      <th>3</th>\n",
              "      <td>CUS-1147642491</td>\n",
              "      <td>34</td>\n",
              "      <td>9032.841186</td>\n",
              "      <td>96.185185</td>\n",
              "      <td>54.271316</td>\n",
              "      <td>1711.39</td>\n",
              "    </tr>\n",
              "    <tr>\n",
              "      <th>4</th>\n",
              "      <td>CUS-1196156254</td>\n",
              "      <td>34</td>\n",
              "      <td>22272.433755</td>\n",
              "      <td>43.100000</td>\n",
              "      <td>31.157432</td>\n",
              "      <td>3903.73</td>\n",
              "    </tr>\n",
              "    <tr>\n",
              "      <th>...</th>\n",
              "      <td>...</td>\n",
              "      <td>...</td>\n",
              "      <td>...</td>\n",
              "      <td>...</td>\n",
              "      <td>...</td>\n",
              "      <td>...</td>\n",
              "    </tr>\n",
              "    <tr>\n",
              "      <th>95</th>\n",
              "      <td>CUS-72755508</td>\n",
              "      <td>35</td>\n",
              "      <td>4497.557069</td>\n",
              "      <td>1180.000000</td>\n",
              "      <td>25.022143</td>\n",
              "      <td>725.32</td>\n",
              "    </tr>\n",
              "    <tr>\n",
              "      <th>96</th>\n",
              "      <td>CUS-809013380</td>\n",
              "      <td>21</td>\n",
              "      <td>3756.902903</td>\n",
              "      <td>70.136364</td>\n",
              "      <td>22.255098</td>\n",
              "      <td>1037.07</td>\n",
              "    </tr>\n",
              "    <tr>\n",
              "      <th>97</th>\n",
              "      <td>CUS-860700529</td>\n",
              "      <td>30</td>\n",
              "      <td>3462.276009</td>\n",
              "      <td>41.933333</td>\n",
              "      <td>28.164845</td>\n",
              "      <td>1808.62</td>\n",
              "    </tr>\n",
              "    <tr>\n",
              "      <th>98</th>\n",
              "      <td>CUS-880898248</td>\n",
              "      <td>26</td>\n",
              "      <td>8528.830385</td>\n",
              "      <td>77.500000</td>\n",
              "      <td>20.101429</td>\n",
              "      <td>1433.98</td>\n",
              "    </tr>\n",
              "    <tr>\n",
              "      <th>99</th>\n",
              "      <td>CUS-883482547</td>\n",
              "      <td>19</td>\n",
              "      <td>9877.452697</td>\n",
              "      <td>91.446809</td>\n",
              "      <td>30.635098</td>\n",
              "      <td>3977.46</td>\n",
              "    </tr>\n",
              "  </tbody>\n",
              "</table>\n",
              "<p>100 rows × 6 columns</p>\n",
              "</div>"
            ],
            "text/plain": [
              "       customer_id  age       balance      payment        pos   salary\n",
              "0   CUS-1005756958   53   2275.852055   144.000000  28.769615   970.47\n",
              "1   CUS-1117979751   21   9829.929000    98.925000  23.321923  3578.65\n",
              "2   CUS-1140341822   28   5699.212250   142.000000  34.781282  1916.51\n",
              "3   CUS-1147642491   34   9032.841186    96.185185  54.271316  1711.39\n",
              "4   CUS-1196156254   34  22272.433755    43.100000  31.157432  3903.73\n",
              "..             ...  ...           ...          ...        ...      ...\n",
              "95    CUS-72755508   35   4497.557069  1180.000000  25.022143   725.32\n",
              "96   CUS-809013380   21   3756.902903    70.136364  22.255098  1037.07\n",
              "97   CUS-860700529   30   3462.276009    41.933333  28.164845  1808.62\n",
              "98   CUS-880898248   26   8528.830385    77.500000  20.101429  1433.98\n",
              "99   CUS-883482547   19   9877.452697    91.446809  30.635098  3977.46\n",
              "\n",
              "[100 rows x 6 columns]"
            ]
          },
          "metadata": {
            "tags": []
          },
          "execution_count": 45
        }
      ]
    },
    {
      "cell_type": "code",
      "metadata": {
        "id": "gPESYFnQ7QIR",
        "colab_type": "code",
        "colab": {
          "base_uri": "https://localhost:8080/",
          "height": 35
        },
        "outputId": "961bfc23-b338-49a4-cc4b-7007f366cc44"
      },
      "source": [
        "X=df[[\"age\",\"balance\",\"payment\",\"pos\",\"salary\"]]\n",
        "X.shape"
      ],
      "execution_count": 46,
      "outputs": [
        {
          "output_type": "execute_result",
          "data": {
            "text/plain": [
              "(100, 5)"
            ]
          },
          "metadata": {
            "tags": []
          },
          "execution_count": 46
        }
      ]
    },
    {
      "cell_type": "code",
      "metadata": {
        "id": "Zh1vbQZu7QIY",
        "colab_type": "code",
        "colab": {}
      },
      "source": [
        "wcss=[]\n",
        "\n",
        "for i in range(1,11):\n",
        "    km=KMeans(n_clusters=i)\n",
        "    km.fit(X)\n",
        "    wcss.append(km.inertia_)"
      ],
      "execution_count": 47,
      "outputs": []
    },
    {
      "cell_type": "code",
      "metadata": {
        "id": "92F7yJG37QIb",
        "colab_type": "code",
        "colab": {
          "base_uri": "https://localhost:8080/",
          "height": 399
        },
        "outputId": "4d05d238-42f1-455a-b248-f5009d791e85"
      },
      "source": [
        "plt.figure(figsize=(12,6))\n",
        "plt.plot(range(1,11),wcss)\n",
        "plt.grid()\n",
        "plt.plot(range(1,11),wcss, linewidth=2, color=\"red\", marker =\"8\")\n",
        "plt.xlabel(\"K Value\")\n",
        "plt.xticks(np.arange(1,11,1))\n",
        "plt.ylabel(\"WCSS\")\n",
        "plt.show()"
      ],
      "execution_count": 48,
      "outputs": [
        {
          "output_type": "display_data",
          "data": {
            "image/png": "[encoded data removed]",
            "text/plain": [
              "<Figure size 864x432 with 1 Axes>"
            ]
          },
          "metadata": {
            "tags": [],
            "needs_background": "light"
          }
        }
      ]
    },
    {
      "cell_type": "code",
      "metadata": {
        "id": "i7lNTR9U7QIf",
        "colab_type": "code",
        "colab": {}
      },
      "source": [
        "km=KMeans(n_clusters=3)\n",
        "clusters = km.fit_predict(X)\n",
        "df[\"label\"] = clusters"
      ],
      "execution_count": 49,
      "outputs": []
    },
    {
      "cell_type": "code",
      "metadata": {
        "id": "-wu7K4K97QIh",
        "colab_type": "code",
        "colab": {
          "base_uri": "https://localhost:8080/",
          "height": 424
        },
        "outputId": "e00e3e33-7302-4f43-da89-e1a8984e54c2"
      },
      "source": [
        "df"
      ],
      "execution_count": 50,
      "outputs": [
        {
          "output_type": "execute_result",
          "data": {
            "text/html": [
              "<div>\n",
              "<style scoped>\n",
              "    .dataframe tbody tr th:only-of-type {\n",
              "        vertical-align: middle;\n",
              "    }\n",
              "\n",
              "    .dataframe tbody tr th {\n",
              "        vertical-align: top;\n",
              "    }\n",
              "\n",
              "    .dataframe thead th {\n",
              "        text-align: right;\n",
              "    }\n",
              "</style>\n",
              "<table border=\"1\" class=\"dataframe\">\n",
              "  <thead>\n",
              "    <tr style=\"text-align: right;\">\n",
              "      <th></th>\n",
              "      <th>customer_id</th>\n",
              "      <th>age</th>\n",
              "      <th>balance</th>\n",
              "      <th>payment</th>\n",
              "      <th>pos</th>\n",
              "      <th>salary</th>\n",
              "      <th>label</th>\n",
              "    </tr>\n",
              "  </thead>\n",
              "  <tbody>\n",
              "    <tr>\n",
              "      <th>0</th>\n",
              "      <td>CUS-1005756958</td>\n",
              "      <td>53</td>\n",
              "      <td>2275.852055</td>\n",
              "      <td>144.000000</td>\n",
              "      <td>28.769615</td>\n",
              "      <td>970.47</td>\n",
              "      <td>0</td>\n",
              "    </tr>\n",
              "    <tr>\n",
              "      <th>1</th>\n",
              "      <td>CUS-1117979751</td>\n",
              "      <td>21</td>\n",
              "      <td>9829.929000</td>\n",
              "      <td>98.925000</td>\n",
              "      <td>23.321923</td>\n",
              "      <td>3578.65</td>\n",
              "      <td>0</td>\n",
              "    </tr>\n",
              "    <tr>\n",
              "      <th>2</th>\n",
              "      <td>CUS-1140341822</td>\n",
              "      <td>28</td>\n",
              "      <td>5699.212250</td>\n",
              "      <td>142.000000</td>\n",
              "      <td>34.781282</td>\n",
              "      <td>1916.51</td>\n",
              "      <td>0</td>\n",
              "    </tr>\n",
              "    <tr>\n",
              "      <th>3</th>\n",
              "      <td>CUS-1147642491</td>\n",
              "      <td>34</td>\n",
              "      <td>9032.841186</td>\n",
              "      <td>96.185185</td>\n",
              "      <td>54.271316</td>\n",
              "      <td>1711.39</td>\n",
              "      <td>0</td>\n",
              "    </tr>\n",
              "    <tr>\n",
              "      <th>4</th>\n",
              "      <td>CUS-1196156254</td>\n",
              "      <td>34</td>\n",
              "      <td>22272.433755</td>\n",
              "      <td>43.100000</td>\n",
              "      <td>31.157432</td>\n",
              "      <td>3903.73</td>\n",
              "      <td>0</td>\n",
              "    </tr>\n",
              "    <tr>\n",
              "      <th>...</th>\n",
              "      <td>...</td>\n",
              "      <td>...</td>\n",
              "      <td>...</td>\n",
              "      <td>...</td>\n",
              "      <td>...</td>\n",
              "      <td>...</td>\n",
              "      <td>...</td>\n",
              "    </tr>\n",
              "    <tr>\n",
              "      <th>95</th>\n",
              "      <td>CUS-72755508</td>\n",
              "      <td>35</td>\n",
              "      <td>4497.557069</td>\n",
              "      <td>1180.000000</td>\n",
              "      <td>25.022143</td>\n",
              "      <td>725.32</td>\n",
              "      <td>0</td>\n",
              "    </tr>\n",
              "    <tr>\n",
              "      <th>96</th>\n",
              "      <td>CUS-809013380</td>\n",
              "      <td>21</td>\n",
              "      <td>3756.902903</td>\n",
              "      <td>70.136364</td>\n",
              "      <td>22.255098</td>\n",
              "      <td>1037.07</td>\n",
              "      <td>0</td>\n",
              "    </tr>\n",
              "    <tr>\n",
              "      <th>97</th>\n",
              "      <td>CUS-860700529</td>\n",
              "      <td>30</td>\n",
              "      <td>3462.276009</td>\n",
              "      <td>41.933333</td>\n",
              "      <td>28.164845</td>\n",
              "      <td>1808.62</td>\n",
              "      <td>0</td>\n",
              "    </tr>\n",
              "    <tr>\n",
              "      <th>98</th>\n",
              "      <td>CUS-880898248</td>\n",
              "      <td>26</td>\n",
              "      <td>8528.830385</td>\n",
              "      <td>77.500000</td>\n",
              "      <td>20.101429</td>\n",
              "      <td>1433.98</td>\n",
              "      <td>0</td>\n",
              "    </tr>\n",
              "    <tr>\n",
              "      <th>99</th>\n",
              "      <td>CUS-883482547</td>\n",
              "      <td>19</td>\n",
              "      <td>9877.452697</td>\n",
              "      <td>91.446809</td>\n",
              "      <td>30.635098</td>\n",
              "      <td>3977.46</td>\n",
              "      <td>0</td>\n",
              "    </tr>\n",
              "  </tbody>\n",
              "</table>\n",
              "<p>100 rows × 7 columns</p>\n",
              "</div>"
            ],
            "text/plain": [
              "       customer_id  age       balance      payment        pos   salary  label\n",
              "0   CUS-1005756958   53   2275.852055   144.000000  28.769615   970.47      0\n",
              "1   CUS-1117979751   21   9829.929000    98.925000  23.321923  3578.65      0\n",
              "2   CUS-1140341822   28   5699.212250   142.000000  34.781282  1916.51      0\n",
              "3   CUS-1147642491   34   9032.841186    96.185185  54.271316  1711.39      0\n",
              "4   CUS-1196156254   34  22272.433755    43.100000  31.157432  3903.73      0\n",
              "..             ...  ...           ...          ...        ...      ...    ...\n",
              "95    CUS-72755508   35   4497.557069  1180.000000  25.022143   725.32      0\n",
              "96   CUS-809013380   21   3756.902903    70.136364  22.255098  1037.07      0\n",
              "97   CUS-860700529   30   3462.276009    41.933333  28.164845  1808.62      0\n",
              "98   CUS-880898248   26   8528.830385    77.500000  20.101429  1433.98      0\n",
              "99   CUS-883482547   19   9877.452697    91.446809  30.635098  3977.46      0\n",
              "\n",
              "[100 rows x 7 columns]"
            ]
          },
          "metadata": {
            "tags": []
          },
          "execution_count": 50
        }
      ]
    },
    {
      "cell_type": "code",
      "metadata": {
        "id": "QqG7T9VD7QIq",
        "colab_type": "code",
        "colab": {
          "base_uri": "https://localhost:8080/",
          "height": 308
        },
        "outputId": "1e824078-f6a1-4636-f045-47b3772b6e04"
      },
      "source": [
        "print(\"Fist Group: \")\n",
        "print(\" \")\n",
        "print(df[df[\"label\"]==0])"
      ],
      "execution_count": 51,
      "outputs": [
        {
          "output_type": "stream",
          "text": [
            "Fist Group: \n",
            " \n",
            "       customer_id  age       balance      payment        pos   salary  label\n",
            "0   CUS-1005756958   53   2275.852055   144.000000  28.769615   970.47      0\n",
            "1   CUS-1117979751   21   9829.929000    98.925000  23.321923  3578.65      0\n",
            "2   CUS-1140341822   28   5699.212250   142.000000  34.781282  1916.51      0\n",
            "3   CUS-1147642491   34   9032.841186    96.185185  54.271316  1711.39      0\n",
            "4   CUS-1196156254   34  22272.433755    43.100000  31.157432  3903.73      0\n",
            "..             ...  ...           ...          ...        ...      ...    ...\n",
            "95    CUS-72755508   35   4497.557069  1180.000000  25.022143   725.32      0\n",
            "96   CUS-809013380   21   3756.902903    70.136364  22.255098  1037.07      0\n",
            "97   CUS-860700529   30   3462.276009    41.933333  28.164845  1808.62      0\n",
            "98   CUS-880898248   26   8528.830385    77.500000  20.101429  1433.98      0\n",
            "99   CUS-883482547   19   9877.452697    91.446809  30.635098  3977.46      0\n",
            "\n",
            "[87 rows x 7 columns]\n"
          ],
          "name": "stdout"
        }
      ]
    },
    {
      "cell_type": "code",
      "metadata": {
        "id": "6d8kMU-67QIt",
        "colab_type": "code",
        "colab": {
          "base_uri": "https://localhost:8080/",
          "height": 108
        },
        "outputId": "8dc2cfd7-9daf-4620-9787-1bed1ed93112"
      },
      "source": [
        "print(\"Second Group: \")\n",
        "print(\" \")\n",
        "print(df[df[\"label\"]==1])"
      ],
      "execution_count": 52,
      "outputs": [
        {
          "output_type": "stream",
          "text": [
            "Second Group: \n",
            " \n",
            "       customer_id  age        balance    payment         pos   salary  label\n",
            "43  CUS-2370108457   46  263753.766119  61.750000  258.643636  2179.96      1\n",
            "91   CUS-527400765   40  198565.143775  72.216216   35.570500  4216.04      1\n"
          ],
          "name": "stdout"
        }
      ]
    },
    {
      "cell_type": "code",
      "metadata": {
        "id": "BefN29da7QIv",
        "colab_type": "code",
        "colab": {
          "base_uri": "https://localhost:8080/",
          "height": 271
        },
        "outputId": "984333e4-90ef-4b8f-bc02-a1236e95654e"
      },
      "source": [
        "print(\"Third Group: \")\n",
        "print(\" \")\n",
        "print(df[df[\"label\"]==2])"
      ],
      "execution_count": 53,
      "outputs": [
        {
          "output_type": "stream",
          "text": [
            "Third Group: \n",
            " \n",
            "       customer_id  age        balance     payment         pos   salary  label\n",
            "17  CUS-1609060617   19   56685.795802   75.454545  134.343000  2854.74      2\n",
            "21  CUS-1646183815   78   54240.641471   58.437500   23.736667   782.42      2\n",
            "27  CUS-1816693151   40   65420.404231   73.567568   52.825455  8835.98      2\n",
            "33  CUS-2059096722   21   35816.951949   58.914286   27.022973  1560.20      2\n",
            "53  CUS-2663907001   28   39427.873576   55.192771   28.165200  4054.77      2\n",
            "57  CUS-2819545904   42  111300.797619  109.800000   88.541818  3231.26      2\n",
            "60  CUS-3117610635   33   61491.350647   76.863636   36.737391  2718.51      2\n",
            "63  CUS-3151318058   42   37842.077755   75.684211   30.715000  1757.82      2\n",
            "67  CUS-3249305314   38   38687.672843  111.214286  107.296250  1880.95      2\n",
            "77  CUS-3462882033   22   46338.733837  124.500000   29.371304  3195.01      2\n",
            "87   CUS-495599312   38   57566.579032  144.500000  102.412500  2647.38      2\n"
          ],
          "name": "stdout"
        }
      ]
    }
  ]
}